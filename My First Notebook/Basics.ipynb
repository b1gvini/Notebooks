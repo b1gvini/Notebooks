{
 "cells": [
  {
   "cell_type": "markdown",
   "metadata": {},
   "source": [
    "\n",
    "\n",
    "In the code cell below, we:\n",
    "\n",
    " - Open the AppleStore.csv file using the open() function, and assign the output to a variable named opened_file\n",
    " - Import the reader() function from the csv module\n",
    " - Read in the opened file using the reader() function, and assign the output to a variable named read_file\n",
    " - Transform the read-in file to a list of lists using list() and save it to a variable named apps_data\n",
    " - Display the header row and the first three rows of the data set."
   ]
  },
  {
   "cell_type": "code",
   "execution_count": 45,
   "metadata": {
    "collapsed": false
   },
   "outputs": [
    {
     "data": {
      "text/plain": [
       "[['id',\n",
       "  'track_name',\n",
       "  'size_bytes',\n",
       "  'currency',\n",
       "  'price',\n",
       "  'rating_count_tot',\n",
       "  'rating_count_ver',\n",
       "  'user_rating',\n",
       "  'user_rating_ver',\n",
       "  'ver',\n",
       "  'cont_rating',\n",
       "  'prime_genre',\n",
       "  'sup_devices.num',\n",
       "  'ipadSc_urls.num',\n",
       "  'lang.num',\n",
       "  'vpp_lic'],\n",
       " ['284882215',\n",
       "  'Facebook',\n",
       "  '389879808',\n",
       "  'USD',\n",
       "  '0.0',\n",
       "  '2974676',\n",
       "  '212',\n",
       "  '3.5',\n",
       "  '3.5',\n",
       "  '95.0',\n",
       "  '4+',\n",
       "  'Social Networking',\n",
       "  '37',\n",
       "  '1',\n",
       "  '29',\n",
       "  '1'],\n",
       " ['389801252',\n",
       "  'Instagram',\n",
       "  '113954816',\n",
       "  'USD',\n",
       "  '0.0',\n",
       "  '2161558',\n",
       "  '1289',\n",
       "  '4.5',\n",
       "  '4.0',\n",
       "  '10.23',\n",
       "  '12+',\n",
       "  'Photo & Video',\n",
       "  '37',\n",
       "  '0',\n",
       "  '29',\n",
       "  '1']]"
      ]
     },
     "execution_count": 45,
     "metadata": {},
     "output_type": "execute_result"
    }
   ],
   "source": [
    "from csv import reader\n",
    "opened_file = open('AppleStore.csv')\n",
    "read_file = reader(opened_file)\n",
    "apps_data = list(read_file)\n",
    "apps_data[:3]"
   ]
  },
  {
   "cell_type": "markdown",
   "metadata": {},
   "source": [
    "Documentation for the data set can be found at [this page](https://www.kaggle.com/ramamet4/app-store-apple-data-set-10k-apps), where you'll also be able to download the data set.\n",
    "\n",
    "This is a table explaining what each column in the data set describes:"
   ]
  },
  {
   "cell_type": "markdown",
   "metadata": {},
   "source": [
    "Alguns atributos\n",
    "\n",
    "| Column name    | Description |\n",
    "| -----------    | ----------- |\n",
    "| 'id'           | App ID      |\n",
    "| 'track_name'   | App Name    |\n",
    "| 'size_bytes'   | Size(in Bytes)|\n",
    "| 'currency'     | Currency Type|\n",
    "| 'price'        | Price amount|\n",
    "| 'rating_count_tot'| User Rating counts (for all version)|\n",
    "| 'rating_count_ver'| User Rating counts (for current version)|\n",
    "| 'user_rating'| Average User Rating value (for all version)|\n",
    "| 'user_rating_ver'| Average User Rating value (for current version)|\n",
    "| 'ver'| Latest version code|\n",
    "| 'cont_rating'| Content Rating|\n",
    "| 'prime_genre'| Primary Genre |\n",
    "|' sup_devices.num'| Number of supporting devices|\n",
    "| 'ipadSc_urls.num'| Number of screenshots showed for display|\n",
    "| 'lang.num'| Number of supported languages|\n",
    "| 'vpp_lic | Vpp Device Based Licensing Enabled |"
   ]
  }
 ],
 "metadata": {
  "kernelspec": {
   "display_name": "Python 3",
   "language": "python",
   "name": "python3"
  },
  "language_info": {
   "codemirror_mode": {
    "name": "ipython",
    "version": 3
   },
   "file_extension": ".py",
   "mimetype": "text/x-python",
   "name": "python",
   "nbconvert_exporter": "python",
   "pygments_lexer": "ipython3",
   "version": "3.4.3"
  }
 },
 "nbformat": 4,
 "nbformat_minor": 2
}
